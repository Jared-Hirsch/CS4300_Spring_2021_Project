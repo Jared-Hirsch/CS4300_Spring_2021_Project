{
 "cells": [
  {
   "cell_type": "code",
   "execution_count": 21,
   "metadata": {},
   "outputs": [],
   "source": [
    "from bs4 import BeautifulSoup\n",
    "import os\n",
    "import requests\n",
    "import re\n",
    "from lyricsgenius import Genius"
   ]
  },
  {
   "cell_type": "code",
   "execution_count": 22,
   "metadata": {},
   "outputs": [],
   "source": [
    "GENIUS_API_TOKEN='bVEbboB9VeToZE48RaiJwrnAGLz8VbrIdlqnVU70pzJXs_T4Yg6pdPpJrTQDK46p'\n",
    "token = GENIUS_API_TOKEN"
   ]
  },
  {
   "cell_type": "code",
   "execution_count": 23,
   "metadata": {},
   "outputs": [
    {
     "name": "stdout",
     "output_type": "stream",
     "text": [
      "Searching for songs by Andy Shauf...\n",
      "\n",
      "Song 1: \"Alexander All Alone\"\n",
      "Song 2: \"All the Same\"\n",
      "Song 3: \"Angela\"\n",
      "\n",
      "Reached user-specified song limit (3).\n",
      "Done. Found 3 songs.\n",
      "Searching for \"To You\" by Andy Shauf...\n",
      "Done.\n"
     ]
    },
    {
     "data": {
      "text/plain": [
       "\"Jeremy can we talk a minute?\\nI've got some things that I need to\\nGet off of my chest\\n\\nI know that we have had a few\\nAnd it's far too late\\nBut if I wait I might never tell you\\n\\nCan we find somewhere quiet?\\nLet's go outside\\nI've got some smokes if you've got a light\\n\\nIt's just that sometimes when I'm by your side\\nIt feels so right\\nIt feels like nothing could go wrong\\n\\nDoes it ever\\nFeel like that to you?\\nDoes it ever\\nFeel like that to you?\\n\\nOh I don't know what I mean\\nIt sounded wrong and I'm just tired\\nNot being weird\\n\\nI just mean that you're a good friend\\nIt's hard to explain\\nJust forget I said anything\\n\\nGet over yourself\\nI'm not in love with you\\nIt just came out all wrong\\n\\nYeah\\nTell the guys and laugh it up\\nWhy am I even surprised?\\n\\nThat it never\\nFeels like that to you\\nThat it never\\nFeels like that to you\\nI guess it never\\nFeels like that to you\\nI guess it never\\nFeels like that to you\""
      ]
     },
     "execution_count": 23,
     "metadata": {},
     "output_type": "execute_result"
    }
   ],
   "source": [
    "# Approach 1, use abstraction library lyricsgenius https://github.com/johnwmillr/LyricsGenius\n",
    "genius = Genius(token)\n",
    "artist = genius.search_artist(\"Andy Shauf\", max_songs=3, sort=\"title\")\n",
    "song = artist.song(\"To You\")\n",
    "song.lyrics"
   ]
  },
  {
   "cell_type": "code",
   "execution_count": 24,
   "metadata": {},
   "outputs": [
    {
     "name": "stdout",
     "output_type": "stream",
     "text": [
      "Found 3 songs by Andy Shauf\n"
     ]
    },
    {
     "data": {
      "text/plain": [
       "['https://genius.com/Andy-shauf-the-magician-lyrics',\n",
       " 'https://genius.com/Andy-shauf-quite-like-you-lyrics',\n",
       " 'https://genius.com/Andy-shauf-try-again-lyrics']"
      ]
     },
     "execution_count": 24,
     "metadata": {},
     "output_type": "execute_result"
    }
   ],
   "source": [
    "# Approach 2, use Genius API directly https://medium.com/analytics-vidhya/how-to-scrape-song-lyrics-a-gentle-python-tutorial-5b1d4ab351d2\n",
    "# Get artist object from Genius API\n",
    "def request_artist_info(artist_name, page):\n",
    "    base_url = 'https://api.genius.com'\n",
    "    headers = {'Authorization': 'Bearer ' + GENIUS_API_TOKEN}\n",
    "    search_url = base_url + '/search?per_page=10&page=' + str(page)\n",
    "    data = {'q': artist_name}\n",
    "    response = requests.get(search_url, data=data, headers=headers)\n",
    "    return response\n",
    "# Get Genius.com song url's from artist object\n",
    "def request_song_url(artist_name, song_cap):\n",
    "    page = 1\n",
    "    songs = []\n",
    "    \n",
    "    while True:\n",
    "        response = request_artist_info(artist_name, page)\n",
    "        json = response.json()\n",
    "        # Collect up to song_cap song objects from artist\n",
    "        song_info = []\n",
    "        for hit in json['response']['hits']:\n",
    "            if artist_name.lower() in hit['result']['primary_artist']['name'].lower():\n",
    "                song_info.append(hit)\n",
    "    \n",
    "        # Collect song URL's from song objects\n",
    "        for song in song_info:\n",
    "            if (len(songs) < song_cap):\n",
    "                url = song['result']['url']\n",
    "                songs.append(url)\n",
    "            \n",
    "        if (len(songs) == song_cap):\n",
    "            break\n",
    "        else:\n",
    "            page += 1\n",
    "        \n",
    "    print('Found {} songs by {}'.format(len(songs), artist_name))\n",
    "    return songs\n",
    "    \n",
    "# DEMO\n",
    "request_song_url('Andy Shauf', 3)\n"
   ]
  },
  {
   "cell_type": "code",
   "execution_count": 19,
   "metadata": {},
   "outputs": [
    {
     "name": "stdout",
     "output_type": "stream",
     "text": [
      "Jeremy can we talk a minute?\r\n",
      "I've got some things that I need to\r\n",
      "Get off of my chest\r\n",
      "I know that we have had a few\r\n",
      "And it's far too late\r\n",
      "But if I wait I might never tell you\r\n",
      "Can we find somewhere quiet?\r\n",
      "Let's go outside\r\n",
      "I've got some smokes if you've got a light\r\n",
      "It's just that sometimes when I'm by your side\r\n",
      "It feels so right\r\n",
      "It feels like nothing could go wrong\r\n",
      "Does it ever\r\n",
      "Feel like that to you?\r\n",
      "Does it ever\r\n",
      "Feel like that to you?\r\n",
      "Oh I don't know what I mean\r\n",
      "It sounded wrong and I'm just tired\r\n",
      "Not being weird\r\n",
      "I just mean that you're a good friend\r\n",
      "It's hard to explain\r\n",
      "Just forget I said anything\r\n",
      "Get over yourself\r\n",
      "I'm not in love with you\r\n",
      "It just came out all wrong\r\n",
      "Yeah\r\n",
      "Tell the guys and laugh it up\r\n",
      "Why am I even surprised?\r\n",
      "That it never\r\n",
      "Feels like that to you\r\n",
      "That it never\r\n",
      "Feels like that to you\r\n",
      "I guess it never\r\n",
      "Feels like that to you\r\n",
      "I guess it never\r\n",
      "Feels like that to you\n"
     ]
    }
   ],
   "source": [
    "# Scrape lyrics from a Genius.com song URL\n",
    "def scrape_song_lyrics(url):\n",
    "    page = requests.get(url)\n",
    "    html = BeautifulSoup(page.text, 'html.parser')\n",
    "    lyrics = html.find('div', class_='lyrics').get_text()\n",
    "    #remove identifiers like chorus, verse, etc\n",
    "    lyrics = re.sub(r'[\\(\\[].*?[\\)\\]]', '', lyrics)\n",
    "    #remove empty lines\n",
    "    lyrics = os.linesep.join([s for s in lyrics.splitlines() if s])         \n",
    "    return lyrics\n",
    "# DEMO\n",
    "print(scrape_song_lyrics('https://genius.com/Andy-shauf-to-you-lyrics'))"
   ]
  },
  {
   "cell_type": "code",
   "execution_count": null,
   "metadata": {},
   "outputs": [],
   "source": []
  }
 ],
 "metadata": {
  "kernelspec": {
   "display_name": "cs4300-env",
   "language": "python",
   "name": "cs4300-env"
  },
  "language_info": {
   "codemirror_mode": {
    "name": "ipython",
    "version": 3
   },
   "file_extension": ".py",
   "mimetype": "text/x-python",
   "name": "python",
   "nbconvert_exporter": "python",
   "pygments_lexer": "ipython3",
   "version": "3.7.6"
  }
 },
 "nbformat": 4,
 "nbformat_minor": 2
}
