{
 "cells": [
  {
   "cell_type": "code",
   "execution_count": 67,
   "id": "colonial-coordinator",
   "metadata": {},
   "outputs": [],
   "source": [
    "from lyricsgenius import Genius\n",
    "from collections import Counter\n",
    "import re\n",
    "from nltk.tokenize import TreebankWordTokenizer\n",
    "import string\n",
    "import pandas as pd\n",
    "import requests\n",
    "from tqdm.notebook import tqdm\n",
    "\n",
    "tokenizer = TreebankWordTokenizer()\n",
    "punct = set(string.punctuation)\n",
    "punct.update({\"''\", \"``\", \"\"})\n",
    "genius = Genius('bVEbboB9VeToZE48RaiJwrnAGLz8VbrIdlqnVU70pzJXs_T4Yg6pdPpJrTQDK46p')\n",
    "genius.verbose = False"
   ]
  },
  {
   "cell_type": "code",
   "execution_count": 90,
   "id": "above-forest",
   "metadata": {},
   "outputs": [],
   "source": [
    "path = r'C:\\Users\\chris\\Documents\\GitHub\\cs4300sp2021-rad338-jsh328-rpp62-cmc447\\sample_data'\n",
    "df = pd.read_csv(path + r\"\\sample_scraped_data100.csv\")"
   ]
  },
  {
   "cell_type": "code",
   "execution_count": 100,
   "id": "verbal-elimination",
   "metadata": {},
   "outputs": [],
   "source": [
    "def match(a, b):\n",
    "    return (a in b) or (b in a)\n",
    "\n",
    "def get_lyrics(song_name, song_artist):\n",
    "    s = genius.search_song(song_name, song_artist, get_full_info = False).to_dict()\n",
    "    query_sn, query_sa = song_name.lower(), song_artist.lower()\n",
    "    returned_sn, returned_sa = s['artist'].lower(), s['title'].lower()\n",
    "    \n",
    "    if match(query_sn, returned_sn) and match(query_sa, returned_sa):\n",
    "        return s['lyrics']"
   ]
  },
  {
   "cell_type": "code",
   "execution_count": 101,
   "id": "tutorial-stupid",
   "metadata": {},
   "outputs": [],
   "source": [
    "def get_all_lyrics(df):\n",
    "    \"\"\"\n",
    "    df: DataFrame; uri, name, and artist must be columns in the dataframe\n",
    "    \n",
    "    returns a dictionary where key = song uri and value = Counter of tokenized lyrics\n",
    "    \"\"\"\n",
    "    cnt_dict = dict() #dict(uri: Counter(lyric tokens))\n",
    "    for _, row in tqdm(df.iterrows()):\n",
    "        uri, name, artist = row[['uri', 'name', 'artist']]\n",
    "        lyrics = get_lyrics(name, artist)\n",
    "        if d:\n",
    "            lyrics = re.sub(r'[\\(\\[].*?[\\)\\]]', '', lyrics)\n",
    "            tokens = [t for t in tokenizer.tokenize(lyrics) if t not in punct]\n",
    "            cnt = Counter(tokens)\n",
    "            cnt_dict[uri] = cnt\n",
    "    return cnt_dict"
   ]
  }
 ],
 "metadata": {
  "kernelspec": {
   "display_name": "Python 3",
   "language": "python",
   "name": "python3"
  },
  "language_info": {
   "codemirror_mode": {
    "name": "ipython",
    "version": 3
   },
   "file_extension": ".py",
   "mimetype": "text/x-python",
   "name": "python",
   "nbconvert_exporter": "python",
   "pygments_lexer": "ipython3",
   "version": "3.7.6"
  }
 },
 "nbformat": 4,
 "nbformat_minor": 5
}
