{
 "cells": [
  {
   "cell_type": "code",
   "execution_count": 4,
   "id": "clinical-pendant",
   "metadata": {},
   "outputs": [],
   "source": [
    "from lyricsgenius import Genius\n",
    "from collections import Counter\n",
    "import re\n",
    "from nltk.tokenize import TreebankWordTokenizer\n",
    "import string\n",
    "import pandas as pd\n",
    "import requests\n",
    "from tqdm.notebook import tqdm\n",
    "import pickle\n",
    "import os\n",
    "import requests\n",
    "import re\n",
    "from bs4 import BeautifulSoup\n",
    "from time import time\n",
    "from utils import *\n",
    "import unidecode\n",
    "\n",
    "\n",
    "path = r'C:\\Users\\chris\\Documents\\GitHub\\cs4300sp2021-rad338-jsh328-rpp62-cmc447\\sample_data/'\n",
    "# path = r'C:\\Users\\Ronnie\\Documents\\INFO4300\\cs4300sp2021-jsh328-rad338-rpp62-cmc447\\sample_data'\n",
    "\n",
    "tokenizer = TreebankWordTokenizer()\n",
    "punct = set(string.punctuation)\n",
    "punct.update({\"''\", \"``\", \"’\"})\n",
    "# genius = Genius('bVEbboB9VeToZE48RaiJwrnAGLz8VbrIdlqnVU70pzJXs_T4Yg6pdPpJrTQDK46p')\n",
    "# genius.verbose = True"
   ]
  },
  {
   "cell_type": "code",
   "execution_count": 27,
   "id": "choice-vehicle",
   "metadata": {},
   "outputs": [],
   "source": [
    "class GetLyrics():\n",
    "    def __init__(self, df, processed_songs = None):\n",
    "        self.genius_key = 'LSWwGG8PlhpA8wtGYNrhacvWSZTQ5QjqWuwiGx-SXvlxdQkS1EmFpq7Vd5x2dq6c'\n",
    "        self.df = df\n",
    "        self.song_lyrics = dict()\n",
    "        if processed_songs:\n",
    "            self.processed_songs = processed_songs\n",
    "        else:\n",
    "            self.processed_songs = set()\n",
    "\n",
    "\n",
    "    def get_lyrics(self):\n",
    "        start_time = time()\n",
    "\n",
    "        genius = Genius(self.genius_key, verbose=False, retries = 5)\n",
    "        \n",
    "        artists_not_found, songs_not_found, songs_found = 0, 0, 0\n",
    "        index = 0\n",
    "        \n",
    "        gb = self.df.groupby('primary_artist')\n",
    "        pbar = tqdm(total = len(gb), desc = \"0\")\n",
    "        for artist_name, subset in gb:\n",
    "            artist_obj = genius.search_artist(artist_name, max_songs=0)\n",
    "            if artist_obj is None:\n",
    "                print(f\"{artist_name} not found\")\n",
    "                artists_not_found += 1\n",
    "            else:\n",
    "                for _, row in subset.iterrows():\n",
    "                    index += 1\n",
    "                    uri = row['track_id']\n",
    "                    if uri not in self.processed_songs and uri not in self.song_lyrics:\n",
    "                        song_name = strip_name(row['track_name'])\n",
    "                        song_obj = artist_obj.song(song_name)\n",
    "                        if song_obj is None or not match(artist_name, song_obj.artist):\n",
    "                            songs_not_found += 1\n",
    "                        else:\n",
    "                            lyrics = re.sub(r'[\\(\\[].*?[\\)\\]]', '', song_obj.to_text().lower())\n",
    "                            lyrics = os.linesep.join([s for s in lyrics.splitlines() if s])\n",
    "                            tokens = [t for t in tokenizer.tokenize(lyrics) if t not in punct]\n",
    "                            cnt = Counter(tokens)\n",
    "                            self.song_lyrics[uri] = cnt\n",
    "                            songs_found += 1 \n",
    "                if index != 0:\n",
    "                    success_rate = round(songs_found / index, 4)\n",
    "                    pbar.set_description(f\"{index}; {success_rate}\", refresh=True)\n",
    "            \n",
    "\n",
    "#                     if index % 50 == 0:\n",
    "#                         time_dif = time() - start_time\n",
    "#                         songs_per_second = round(index / time_dif, 4)\n",
    "#                         print(f'{songs_found} songs found, {artists_not_found} artists not found, {songs_not_found} songs not found, {index} songs processed in {time_dif} seconds, rate: {songs_per_second}, success_rate: {success_rate}')\n",
    "            pbar.update(1)\n",
    "        return self.song_lyrics"
   ]
  },
  {
   "cell_type": "code",
   "execution_count": 22,
   "id": "artificial-editor",
   "metadata": {},
   "outputs": [],
   "source": [
    "df = pd.read_csv(path + \"SpotifyAudioFeaturesApril2019.csv\")\n",
    "df = df.loc[(df.instrumentalness < 0.5) & (df.popularity > 60)].reset_index(drop = True) # drop less popular and mostly instrumental songs\n",
    "df['primary_artist'] = [unidecode.unidecode(row['artist_name'].split(\",\")[0]) for _, row in df.iterrows()]\n",
    "# df = df.sort_values(by = 'popularity', ascending = False).iloc[:1000].reset_index(drop = True)\n",
    "df = df.sort_values(by = 'popularity', ascending = False).iloc[2000:].reset_index(drop = True)\n",
    "processed_lyrics = pickle.load(open(path + 'processed_lyrics.pkl', 'rb'))"
   ]
  },
  {
   "cell_type": "code",
   "execution_count": 28,
   "id": "british-guinea",
   "metadata": {},
   "outputs": [],
   "source": [
    "scraper = GetLyrics(df, processed_lyrics)"
   ]
  },
  {
   "cell_type": "code",
   "execution_count": 29,
   "id": "framed-philippines",
   "metadata": {
    "scrolled": true
   },
   "outputs": [
    {
     "data": {
      "application/vnd.jupyter.widget-view+json": {
       "model_id": "c34eaef5c591461fa056c56f5fef1de4",
       "version_major": 2,
       "version_minor": 0
      },
      "text/plain": [
       "0:   0%|          | 0/1815 [00:00<?, ?it/s]"
      ]
     },
     "metadata": {},
     "output_type": "display_data"
    },
    {
     "name": "stdout",
     "output_type": "stream",
     "text": [
      "Banda La Ejecutiva de Mazatlan Sinaloa not found\n",
      "Banda Rancho Viejo De Julio Aramburo La Bandononona not found\n",
      "Brown Noise Baby not found\n",
      "Cornelio Vega y su Dinastia not found\n",
      "DJ Juan Cuba not found\n",
      "H.I.N.P (Hot Issue of Ntl. Producers) not found\n",
      "Lucca e Mateus not found\n",
      "Missy & Blonde not found\n",
      "Tito Torbellino Jr not found\n",
      "Tranquility Spree not found\n",
      "Zertox MO not found\n",
      "Zibra Inguzu not found\n",
      "dj 6rb not found\n"
     ]
    }
   ],
   "source": [
    "lyrics = scraper.get_lyrics()"
   ]
  },
  {
   "cell_type": "code",
   "execution_count": 38,
   "id": "supported-daughter",
   "metadata": {},
   "outputs": [],
   "source": [
    "l1 = pickle.load(open(path + 'top1000_lyrics.pkl', 'rb'))\n",
    "l2 = pickle.load(open(path + 'top1000_2000_lyrics.pkl', 'rb'))"
   ]
  },
  {
   "cell_type": "code",
   "execution_count": 39,
   "id": "sufficient-rebate",
   "metadata": {},
   "outputs": [],
   "source": [
    "l3 = {k:v for k,v in lyrics.items()}"
   ]
  },
  {
   "cell_type": "code",
   "execution_count": 40,
   "id": "positive-beijing",
   "metadata": {},
   "outputs": [],
   "source": [
    "l3.update(l1)"
   ]
  },
  {
   "cell_type": "code",
   "execution_count": 41,
   "id": "amended-bones",
   "metadata": {},
   "outputs": [],
   "source": [
    "l3.update(l2)"
   ]
  },
  {
   "cell_type": "code",
   "execution_count": 42,
   "id": "studied-bradley",
   "metadata": {},
   "outputs": [
    {
     "data": {
      "text/plain": [
       "5374"
      ]
     },
     "execution_count": 42,
     "metadata": {},
     "output_type": "execute_result"
    }
   ],
   "source": [
    "len(l3)"
   ]
  },
  {
   "cell_type": "code",
   "execution_count": 43,
   "id": "administrative-ultimate",
   "metadata": {},
   "outputs": [],
   "source": [
    "pickle.dump(l3, open(path + 'top_lyrics.pkl', 'wb'))"
   ]
  },
  {
   "cell_type": "code",
   "execution_count": 36,
   "id": "polyphonic-buyer",
   "metadata": {},
   "outputs": [],
   "source": [
    "pickle.dump(processed_lyrics.union(set(lyrics.keys())), open(path + \"processed_lyrics.pkl\", 'wb'))"
   ]
  },
  {
   "cell_type": "code",
   "execution_count": 30,
   "id": "organic-drinking",
   "metadata": {},
   "outputs": [],
   "source": [
    "pickle.dump(lyrics, open(path + 'top2000_end_lyrics.pkl', 'wb'))"
   ]
  },
  {
   "cell_type": "code",
   "execution_count": 31,
   "id": "extreme-wrist",
   "metadata": {},
   "outputs": [
    {
     "data": {
      "text/plain": [
       "3477"
      ]
     },
     "execution_count": 31,
     "metadata": {},
     "output_type": "execute_result"
    }
   ],
   "source": [
    "len(lyrics)"
   ]
  },
  {
   "cell_type": "code",
   "execution_count": 33,
   "id": "certain-hopkins",
   "metadata": {},
   "outputs": [
    {
     "data": {
      "text/plain": [
       "5374"
      ]
     },
     "execution_count": 33,
     "metadata": {},
     "output_type": "execute_result"
    }
   ],
   "source": [
    "len(processed_lyrics.union(set(lyrics.keys())))"
   ]
  },
  {
   "cell_type": "code",
   "execution_count": 34,
   "id": "above-reminder",
   "metadata": {},
   "outputs": [
    {
     "data": {
      "text/plain": [
       "0.9100762066045724"
      ]
     },
     "execution_count": 34,
     "metadata": {},
     "output_type": "execute_result"
    }
   ],
   "source": [
    "5374/5905"
   ]
  },
  {
   "cell_type": "code",
   "execution_count": 32,
   "id": "right-costs",
   "metadata": {},
   "outputs": [
    {
     "data": {
      "text/plain": [
       "5905"
      ]
     },
     "execution_count": 32,
     "metadata": {},
     "output_type": "execute_result"
    }
   ],
   "source": [
    "temp = pd.read_csv(path + \"SpotifyAudioFeaturesApril2019.csv\")\n",
    "len(temp.loc[(temp.instrumentalness < 0.5) & (temp.popularity > 60)]) # drop less popular and mostly instrumental songs\n"
   ]
  },
  {
   "cell_type": "markdown",
   "id": "vulnerable-default",
   "metadata": {},
   "source": [
    "# ----------------------------------DEPRECATED----------------------------------"
   ]
  },
  {
   "cell_type": "code",
   "execution_count": 43,
   "id": "optimum-pipeline",
   "metadata": {},
   "outputs": [],
   "source": [
    "df1_sample = df1.sample(n = 5000, random_state = 1)"
   ]
  },
  {
   "cell_type": "code",
   "execution_count": 44,
   "id": "billion-arbor",
   "metadata": {},
   "outputs": [
    {
     "data": {
      "text/html": [
       "<div>\n",
       "<style scoped>\n",
       "    .dataframe tbody tr th:only-of-type {\n",
       "        vertical-align: middle;\n",
       "    }\n",
       "\n",
       "    .dataframe tbody tr th {\n",
       "        vertical-align: top;\n",
       "    }\n",
       "\n",
       "    .dataframe thead th {\n",
       "        text-align: right;\n",
       "    }\n",
       "</style>\n",
       "<table border=\"1\" class=\"dataframe\">\n",
       "  <thead>\n",
       "    <tr style=\"text-align: right;\">\n",
       "      <th></th>\n",
       "      <th>artist_name</th>\n",
       "      <th>track_id</th>\n",
       "      <th>track_name</th>\n",
       "      <th>acousticness</th>\n",
       "      <th>danceability</th>\n",
       "      <th>duration_ms</th>\n",
       "      <th>energy</th>\n",
       "      <th>instrumentalness</th>\n",
       "      <th>key</th>\n",
       "      <th>liveness</th>\n",
       "      <th>loudness</th>\n",
       "      <th>mode</th>\n",
       "      <th>speechiness</th>\n",
       "      <th>tempo</th>\n",
       "      <th>time_signature</th>\n",
       "      <th>valence</th>\n",
       "      <th>popularity</th>\n",
       "    </tr>\n",
       "  </thead>\n",
       "  <tbody>\n",
       "    <tr>\n",
       "      <th>62741</th>\n",
       "      <td>Rikko Dunez</td>\n",
       "      <td>35x6RlfDH87X4u1cgIKubI</td>\n",
       "      <td>Talkin'</td>\n",
       "      <td>0.334000</td>\n",
       "      <td>0.563</td>\n",
       "      <td>232699</td>\n",
       "      <td>0.5270</td>\n",
       "      <td>0.000000</td>\n",
       "      <td>4</td>\n",
       "      <td>0.141</td>\n",
       "      <td>-9.419</td>\n",
       "      <td>0</td>\n",
       "      <td>0.2810</td>\n",
       "      <td>129.861</td>\n",
       "      <td>4</td>\n",
       "      <td>0.147</td>\n",
       "      <td>0</td>\n",
       "    </tr>\n",
       "    <tr>\n",
       "      <th>35566</th>\n",
       "      <td>Jim Rystron</td>\n",
       "      <td>4Qg4a6CbWV7U0GIqzkeqId</td>\n",
       "      <td>Walkin' in the Parlor</td>\n",
       "      <td>0.983000</td>\n",
       "      <td>0.594</td>\n",
       "      <td>62798</td>\n",
       "      <td>0.0286</td>\n",
       "      <td>0.000950</td>\n",
       "      <td>2</td>\n",
       "      <td>0.200</td>\n",
       "      <td>-21.146</td>\n",
       "      <td>1</td>\n",
       "      <td>0.0815</td>\n",
       "      <td>98.037</td>\n",
       "      <td>4</td>\n",
       "      <td>0.977</td>\n",
       "      <td>2</td>\n",
       "    </tr>\n",
       "    <tr>\n",
       "      <th>30314</th>\n",
       "      <td>D. LYNCH</td>\n",
       "      <td>5m6rUoikFmlviz0u1kZ9UH</td>\n",
       "      <td>Don't Breathe</td>\n",
       "      <td>0.113000</td>\n",
       "      <td>0.881</td>\n",
       "      <td>254473</td>\n",
       "      <td>0.9260</td>\n",
       "      <td>0.000000</td>\n",
       "      <td>0</td>\n",
       "      <td>0.115</td>\n",
       "      <td>-6.086</td>\n",
       "      <td>0</td>\n",
       "      <td>0.2470</td>\n",
       "      <td>99.953</td>\n",
       "      <td>4</td>\n",
       "      <td>0.354</td>\n",
       "      <td>24</td>\n",
       "    </tr>\n",
       "    <tr>\n",
       "      <th>32055</th>\n",
       "      <td>Beatrice Markus</td>\n",
       "      <td>6uWcz9DKYqaGuANysINgc1</td>\n",
       "      <td>Burstin' Out</td>\n",
       "      <td>0.007120</td>\n",
       "      <td>0.580</td>\n",
       "      <td>189092</td>\n",
       "      <td>0.8670</td>\n",
       "      <td>0.004290</td>\n",
       "      <td>1</td>\n",
       "      <td>0.333</td>\n",
       "      <td>-5.950</td>\n",
       "      <td>0</td>\n",
       "      <td>0.0555</td>\n",
       "      <td>146.028</td>\n",
       "      <td>4</td>\n",
       "      <td>0.358</td>\n",
       "      <td>1</td>\n",
       "    </tr>\n",
       "    <tr>\n",
       "      <th>18932</th>\n",
       "      <td>POLIÇA</td>\n",
       "      <td>0UkB0ISxcNoOnEh5sUMD1g</td>\n",
       "      <td>Agree</td>\n",
       "      <td>0.736000</td>\n",
       "      <td>0.586</td>\n",
       "      <td>201747</td>\n",
       "      <td>0.6210</td>\n",
       "      <td>0.000382</td>\n",
       "      <td>9</td>\n",
       "      <td>0.150</td>\n",
       "      <td>-8.082</td>\n",
       "      <td>0</td>\n",
       "      <td>0.0307</td>\n",
       "      <td>102.989</td>\n",
       "      <td>4</td>\n",
       "      <td>0.456</td>\n",
       "      <td>23</td>\n",
       "    </tr>\n",
       "    <tr>\n",
       "      <th>...</th>\n",
       "      <td>...</td>\n",
       "      <td>...</td>\n",
       "      <td>...</td>\n",
       "      <td>...</td>\n",
       "      <td>...</td>\n",
       "      <td>...</td>\n",
       "      <td>...</td>\n",
       "      <td>...</td>\n",
       "      <td>...</td>\n",
       "      <td>...</td>\n",
       "      <td>...</td>\n",
       "      <td>...</td>\n",
       "      <td>...</td>\n",
       "      <td>...</td>\n",
       "      <td>...</td>\n",
       "      <td>...</td>\n",
       "      <td>...</td>\n",
       "    </tr>\n",
       "    <tr>\n",
       "      <th>21968</th>\n",
       "      <td>Taysav</td>\n",
       "      <td>7EQtd9bbrrhnjFfabqxge9</td>\n",
       "      <td>Once Upon A Time</td>\n",
       "      <td>0.342000</td>\n",
       "      <td>0.630</td>\n",
       "      <td>186514</td>\n",
       "      <td>0.8320</td>\n",
       "      <td>0.000000</td>\n",
       "      <td>7</td>\n",
       "      <td>0.325</td>\n",
       "      <td>-4.292</td>\n",
       "      <td>0</td>\n",
       "      <td>0.2920</td>\n",
       "      <td>165.408</td>\n",
       "      <td>4</td>\n",
       "      <td>0.735</td>\n",
       "      <td>21</td>\n",
       "    </tr>\n",
       "    <tr>\n",
       "      <th>14431</th>\n",
       "      <td>The Lonely Biscuits</td>\n",
       "      <td>1JiPojrxU3xlHdUosquh1L</td>\n",
       "      <td>Talk About</td>\n",
       "      <td>0.118000</td>\n",
       "      <td>0.683</td>\n",
       "      <td>201613</td>\n",
       "      <td>0.5800</td>\n",
       "      <td>0.000000</td>\n",
       "      <td>11</td>\n",
       "      <td>0.119</td>\n",
       "      <td>-7.945</td>\n",
       "      <td>1</td>\n",
       "      <td>0.0472</td>\n",
       "      <td>128.032</td>\n",
       "      <td>4</td>\n",
       "      <td>0.687</td>\n",
       "      <td>34</td>\n",
       "    </tr>\n",
       "    <tr>\n",
       "      <th>32211</th>\n",
       "      <td>June</td>\n",
       "      <td>5NDIseC2L12LTHoO7Zl328</td>\n",
       "      <td>Interlude (feat. Trae Tha Truth)</td>\n",
       "      <td>0.965000</td>\n",
       "      <td>0.566</td>\n",
       "      <td>44319</td>\n",
       "      <td>0.8750</td>\n",
       "      <td>0.251000</td>\n",
       "      <td>0</td>\n",
       "      <td>0.239</td>\n",
       "      <td>-7.648</td>\n",
       "      <td>1</td>\n",
       "      <td>0.1500</td>\n",
       "      <td>84.913</td>\n",
       "      <td>1</td>\n",
       "      <td>0.618</td>\n",
       "      <td>14</td>\n",
       "    </tr>\n",
       "    <tr>\n",
       "      <th>94808</th>\n",
       "      <td>Jeremy Zucker</td>\n",
       "      <td>3PMsgFdVtCeTgjzE8X9TTs</td>\n",
       "      <td>better off - filous remix</td>\n",
       "      <td>0.164000</td>\n",
       "      <td>0.782</td>\n",
       "      <td>176347</td>\n",
       "      <td>0.5640</td>\n",
       "      <td>0.006890</td>\n",
       "      <td>8</td>\n",
       "      <td>0.182</td>\n",
       "      <td>-7.752</td>\n",
       "      <td>0</td>\n",
       "      <td>0.2260</td>\n",
       "      <td>101.058</td>\n",
       "      <td>4</td>\n",
       "      <td>0.448</td>\n",
       "      <td>69</td>\n",
       "    </tr>\n",
       "    <tr>\n",
       "      <th>639</th>\n",
       "      <td>Real Friends</td>\n",
       "      <td>7hGpoMLZ1wPN4FuXCSFYLf</td>\n",
       "      <td>Hear What You Want</td>\n",
       "      <td>0.000304</td>\n",
       "      <td>0.435</td>\n",
       "      <td>196947</td>\n",
       "      <td>0.9570</td>\n",
       "      <td>0.000000</td>\n",
       "      <td>1</td>\n",
       "      <td>0.225</td>\n",
       "      <td>-4.327</td>\n",
       "      <td>1</td>\n",
       "      <td>0.0788</td>\n",
       "      <td>163.061</td>\n",
       "      <td>4</td>\n",
       "      <td>0.680</td>\n",
       "      <td>40</td>\n",
       "    </tr>\n",
       "  </tbody>\n",
       "</table>\n",
       "<p>5000 rows × 17 columns</p>\n",
       "</div>"
      ],
      "text/plain": [
       "               artist_name                track_id  \\\n",
       "62741          Rikko Dunez  35x6RlfDH87X4u1cgIKubI   \n",
       "35566          Jim Rystron  4Qg4a6CbWV7U0GIqzkeqId   \n",
       "30314             D. LYNCH  5m6rUoikFmlviz0u1kZ9UH   \n",
       "32055      Beatrice Markus  6uWcz9DKYqaGuANysINgc1   \n",
       "18932               POLIÇA  0UkB0ISxcNoOnEh5sUMD1g   \n",
       "...                    ...                     ...   \n",
       "21968               Taysav  7EQtd9bbrrhnjFfabqxge9   \n",
       "14431  The Lonely Biscuits  1JiPojrxU3xlHdUosquh1L   \n",
       "32211                 June  5NDIseC2L12LTHoO7Zl328   \n",
       "94808        Jeremy Zucker  3PMsgFdVtCeTgjzE8X9TTs   \n",
       "639           Real Friends  7hGpoMLZ1wPN4FuXCSFYLf   \n",
       "\n",
       "                             track_name  acousticness  danceability  \\\n",
       "62741                           Talkin'      0.334000         0.563   \n",
       "35566             Walkin' in the Parlor      0.983000         0.594   \n",
       "30314                     Don't Breathe      0.113000         0.881   \n",
       "32055                      Burstin' Out      0.007120         0.580   \n",
       "18932                             Agree      0.736000         0.586   \n",
       "...                                 ...           ...           ...   \n",
       "21968                  Once Upon A Time      0.342000         0.630   \n",
       "14431                        Talk About      0.118000         0.683   \n",
       "32211  Interlude (feat. Trae Tha Truth)      0.965000         0.566   \n",
       "94808         better off - filous remix      0.164000         0.782   \n",
       "639                  Hear What You Want      0.000304         0.435   \n",
       "\n",
       "       duration_ms  energy  instrumentalness  key  liveness  loudness  mode  \\\n",
       "62741       232699  0.5270          0.000000    4     0.141    -9.419     0   \n",
       "35566        62798  0.0286          0.000950    2     0.200   -21.146     1   \n",
       "30314       254473  0.9260          0.000000    0     0.115    -6.086     0   \n",
       "32055       189092  0.8670          0.004290    1     0.333    -5.950     0   \n",
       "18932       201747  0.6210          0.000382    9     0.150    -8.082     0   \n",
       "...            ...     ...               ...  ...       ...       ...   ...   \n",
       "21968       186514  0.8320          0.000000    7     0.325    -4.292     0   \n",
       "14431       201613  0.5800          0.000000   11     0.119    -7.945     1   \n",
       "32211        44319  0.8750          0.251000    0     0.239    -7.648     1   \n",
       "94808       176347  0.5640          0.006890    8     0.182    -7.752     0   \n",
       "639         196947  0.9570          0.000000    1     0.225    -4.327     1   \n",
       "\n",
       "       speechiness    tempo  time_signature  valence  popularity  \n",
       "62741       0.2810  129.861               4    0.147           0  \n",
       "35566       0.0815   98.037               4    0.977           2  \n",
       "30314       0.2470   99.953               4    0.354          24  \n",
       "32055       0.0555  146.028               4    0.358           1  \n",
       "18932       0.0307  102.989               4    0.456          23  \n",
       "...            ...      ...             ...      ...         ...  \n",
       "21968       0.2920  165.408               4    0.735          21  \n",
       "14431       0.0472  128.032               4    0.687          34  \n",
       "32211       0.1500   84.913               1    0.618          14  \n",
       "94808       0.2260  101.058               4    0.448          69  \n",
       "639         0.0788  163.061               4    0.680          40  \n",
       "\n",
       "[5000 rows x 17 columns]"
      ]
     },
     "execution_count": 44,
     "metadata": {},
     "output_type": "execute_result"
    }
   ],
   "source": [
    "df1_sample"
   ]
  },
  {
   "cell_type": "code",
   "execution_count": 45,
   "id": "extra-mason",
   "metadata": {},
   "outputs": [],
   "source": [
    "df1_sample.to_csv(path + r\"\\sample5000_SAFApril2019.csv\", index = False)"
   ]
  },
  {
   "cell_type": "code",
   "execution_count": 46,
   "id": "hidden-hopkins",
   "metadata": {},
   "outputs": [],
   "source": [
    "# df = pd.read_csv(path + r\"\\sample_scraped_data200.csv\")"
   ]
  },
  {
   "cell_type": "code",
   "execution_count": 47,
   "id": "static-outside",
   "metadata": {},
   "outputs": [],
   "source": [
    "s = genius.search_song(\"Circles\", \"Post Malone\", get_full_info = False).to_text().lower()"
   ]
  },
  {
   "cell_type": "code",
   "execution_count": 48,
   "id": "compound-assault",
   "metadata": {},
   "outputs": [],
   "source": [
    "s = genius.search_song(\"Circles\", \"Post Malone\", get_full_info = False)"
   ]
  },
  {
   "cell_type": "code",
   "execution_count": 49,
   "id": "aware-forty",
   "metadata": {},
   "outputs": [],
   "source": [
    "def match(a, b):\n",
    "    return (a in b) or (b in a)\n",
    "\n",
    "def get_lyrics(song_name, song_artist):\n",
    "    while True:\n",
    "        try:\n",
    "            s = genius.search_song(song_name, song_artist, get_full_info = False)\n",
    "            break\n",
    "        except:\n",
    "            pass\n",
    "    if s:\n",
    "        query_name, query_artist = song_name.lower(), song_artist.lower()\n",
    "        returned_name, returned_artist = s.title.lower(), s.artist.lower()\n",
    "\n",
    "        if match(query_artist, returned_artist):\n",
    "            return s.to_text().lower()"
   ]
  },
  {
   "cell_type": "code",
   "execution_count": 50,
   "id": "electronic-conservation",
   "metadata": {},
   "outputs": [],
   "source": [
    "def get_all_lyrics(df, uri_colname = 'uri', trackname_colname = 'name', artist_colname = 'artist'):\n",
    "    \"\"\"\n",
    "    df: DataFrame; uri, name, and artist must be columns in the dataframe\n",
    "    \n",
    "    returns a dictionary where key = song uri and value = Counter of tokenized lyrics\n",
    "    \"\"\"\n",
    "    cnt_dict = dict() #dict(uri: Counter(lyric tokens))\n",
    "    pbar = tqdm(total=len(df))\n",
    "    for _, row in df.iterrows():\n",
    "        uri, name, artists = row[[uri_colname, trackname_colname, artist_colname]]\n",
    "        \n",
    "        \n",
    "        for s in [\"-\", \"(\", \"feat.\"]:\n",
    "            ix = name.find(s)\n",
    "            if s != -1:\n",
    "                name = name[:ix].strip()\n",
    "            \n",
    "        artist = artists.split(\",\")[0]\n",
    "        lyrics = get_lyrics(name, artist)\n",
    "        if lyrics:\n",
    "            lyrics = re.sub(r'[\\(\\[].*?[\\)\\]]', '', lyrics)\n",
    "            tokens = [t for t in tokenizer.tokenize(lyrics) if t not in punct]\n",
    "            cnt = Counter(tokens)\n",
    "            cnt_dict[uri] = cnt\n",
    "        pbar.update(1)\n",
    "    return cnt_dict"
   ]
  },
  {
   "cell_type": "code",
   "execution_count": null,
   "id": "fundamental-occurrence",
   "metadata": {},
   "outputs": [],
   "source": []
  },
  {
   "cell_type": "code",
   "execution_count": 51,
   "id": "emerging-correction",
   "metadata": {},
   "outputs": [],
   "source": [
    "# lyrics_dict1 = get_all_lyrics(df1_sample, 'track_id', 'track_name', 'artist_name')\n",
    "# with open(path + r'\\sample5000_SAFApril2019_lyrics.pkl', 'wb') as f:\n",
    "#     pickle.dump(lyrics_dict1, f)"
   ]
  },
  {
   "cell_type": "code",
   "execution_count": 52,
   "id": "czech-friendship",
   "metadata": {},
   "outputs": [
    {
     "ename": "NameError",
     "evalue": "name 'lyrics_dict1' is not defined",
     "output_type": "error",
     "traceback": [
      "\u001b[1;31m---------------------------------------------------------------------------\u001b[0m",
      "\u001b[1;31mNameError\u001b[0m                                 Traceback (most recent call last)",
      "\u001b[1;32m<ipython-input-52-42ad1fd315c1>\u001b[0m in \u001b[0;36m<module>\u001b[1;34m\u001b[0m\n\u001b[1;32m----> 1\u001b[1;33m \u001b[0mlen\u001b[0m\u001b[1;33m(\u001b[0m\u001b[0mlyrics_dict1\u001b[0m\u001b[1;33m)\u001b[0m\u001b[1;33m\u001b[0m\u001b[1;33m\u001b[0m\u001b[0m\n\u001b[0m",
      "\u001b[1;31mNameError\u001b[0m: name 'lyrics_dict1' is not defined"
     ]
    }
   ],
   "source": [
    "len(lyrics_dict1)"
   ]
  },
  {
   "cell_type": "code",
   "execution_count": 61,
   "id": "visible-carroll",
   "metadata": {},
   "outputs": [],
   "source": [
    "class GetLyrics():\n",
    "    \n",
    "#     def __init__(self, spotify_client_id, spotify_client_secret, user_id, playlist_id, genius_key):\n",
    "#         self.spotify_client_id = spotify_client_id\n",
    "#         self.spotify_client_secret = spotify_client_secret\n",
    "#         self.user_id = user_id\n",
    "#         self.playlist_id = playlist_id\n",
    "#         self.genius_key = genius_key\n",
    "        \n",
    "#     def get_playlist_info(self):\n",
    "#         token = SpotifyClientCredentials(client_id=self.spotify_client_id, client_secret=self.spotify_client_secret).get_access_token()\n",
    "#         sp = spotipy.Spotify(token)\n",
    "#         playlist = sp.user_playlist_tracks(self.user_id, self.playlist_id)\n",
    "#         self.playlist = playlist\n",
    "#         return self.playlist\n",
    "    \n",
    "#     def get_track_names(self):\n",
    "#         track_names = []\n",
    "#         for song in range(len(self.playlist['items'])):\n",
    "#             track_names.append(self.playlist['items'][song]['track']['name'])\n",
    "#         self.track_names = track_names\n",
    "#         return self.track_names\n",
    "    \n",
    "#     def get_track_artists(self):\n",
    "#         track_artists = []\n",
    "#         for song in range(len(self.playlist['items'])):\n",
    "#             track_artists.append(self.playlist['items'][song]['track']['artists'][0]['name'])\n",
    "#         self.track_artists = track_artists\n",
    "#         return self.track_artists\n",
    "    def __init__(self, df):\n",
    "        self.genius_key = 'bVEbboB9VeToZE48RaiJwrnAGLz8VbrIdlqnVU70pzJXs_T4Yg6pdPpJrTQDK46p'\n",
    "        self.df = df\n",
    "        \n",
    "    def request_song_info(self, track_name, track_artist):\n",
    "        self.track_name = track_name\n",
    "        self.track_artist = track_artist\n",
    "        base_url = 'https://api.genius.com'\n",
    "        headers = {'Authorization': 'Bearer ' + self.genius_key}\n",
    "        search_url = base_url + '/search'\n",
    "        data = {'q': track_name + ' ' + track_artist}\n",
    "        response = requests.get(search_url, data=data, headers=headers)\n",
    "        self.response = response\n",
    "        return self.response\n",
    "\n",
    "    def check_hits(self):\n",
    "        json = self.response.json()\n",
    "        remote_song_info = None\n",
    "        for hit in json['response']['hits']:\n",
    "            if self.track_artist.lower() in hit['result']['primary_artist']['name'].lower():\n",
    "                remote_song_info = hit\n",
    "                break\n",
    "        self.remote_song_info = remote_song_info\n",
    "        return self.remote_song_info\n",
    "    \n",
    "    def get_url(self):\n",
    "        song_url = self.remote_song_info['result']['url']\n",
    "        self.song_url = song_url\n",
    "        return self.song_url\n",
    "    \n",
    "    def scrape_lyrics(self):\n",
    "        page = requests.get(self.song_url)\n",
    "        html = BeautifulSoup(page.text, 'html.parser')\n",
    "        lyrics1 = html.find(\"div\", class_=\"lyrics\")\n",
    "        lyrics2 = html.find(\"div\", class_=\"Lyrics__Container-sc-1ynbvzw-2 jgQsqn\")\n",
    "        if lyrics1:\n",
    "            lyrics = lyrics1.get_text()\n",
    "        elif lyrics2:\n",
    "            lyrics = lyrics2.get_text()\n",
    "        elif lyrics1 == lyrics2 == None:\n",
    "            lyrics = None\n",
    "        return lyrics\n",
    "\n",
    "    def get_lyrics(self):\n",
    "        #playlist = GetLyrics.get_playlist_info(self)\n",
    "        GENIUS_API_TOKEN='bVEbboB9VeToZE48RaiJwrnAGLz8VbrIdlqnVU70pzJXs_T4Yg6pdPpJrTQDK46p'\n",
    "        token = GENIUS_API_TOKEN\n",
    "        song_lyrics = []\n",
    "        genius = Genius(token, verbose=False)\n",
    "        # for i in range(len(self.track_names)):\n",
    "        artists_not_found, songs_not_found, songs_found = 0, 0, 0\n",
    "        start_time = time()\n",
    "        index = 0\n",
    "        for i, row in self.df.iterrows():\n",
    "            index += 1 \n",
    "            artist_name = row['artist_name']\n",
    "            song_name = row['track_name']\n",
    "            # print(\"\\n\")\n",
    "            # print(f\"Working on track {i}, {song_name} by {artist_name}.\")\n",
    "            artist = genius.search_artist(row['artist_name'], max_songs=0)\n",
    "            try: \n",
    "                song = artist.song(row['track_name'])\n",
    "            except AttributeError:\n",
    "                # print(f'{artist_name} does not exist on genius')\n",
    "                artists_not_found += 1\n",
    "                continue\n",
    "            try:\n",
    "                lyrics = re.sub(r'[\\(\\[].*?[\\)\\]]', '', song.lyrics)\n",
    "            except AttributeError:\n",
    "                # print(f'{song_name} does not exist on genius')\n",
    "                songs_not_found += 1\n",
    "                continue\n",
    "            #remove empty lines\n",
    "            lyrics = os.linesep.join([s for s in lyrics.splitlines() if s])         \n",
    "            songs_found += 1 \n",
    "#             response = GetLyrics.request_song_info(self, row['artist_name'], row['track_name'])\n",
    "#             remote_song_info = GetLyrics.check_hits(self)\n",
    "#             if remote_song_info == None:\n",
    "#                 lyrics = None\n",
    "#                 print(f\"Track {i} is not in the Genius database.\")\n",
    "#             else:\n",
    "#                 url = GetLyrics.get_url(self)\n",
    "#                 lyrics = GetLyrics.scrape_lyrics(self)\n",
    "#                 if lyrics == None:\n",
    "#                     print(f\"Track {i} is not in the Genius database.\")\n",
    "#                 else:\n",
    "#                     print(f\"Retrieved track {i} lyrics!\")\n",
    "            if index % 10 == 0:\n",
    "                time_dif = time() - start_time\n",
    "                songs_per_second = index / time_dif\n",
    "                success_rate = songs_found / index\n",
    "                print(f'{songs_found} songs found, {artists_not_found} artists not found, {songs_not_found} songs not found, {index} songs processed in {time_dif} seconds, rate: {songs_per_second}, success_rate: {success_rate}')\n",
    "            # song_lyrics.append(lyrics)\n",
    "        return song_lyrics"
   ]
  },
  {
   "cell_type": "code",
   "execution_count": null,
   "id": "seeing-learning",
   "metadata": {},
   "outputs": [
    {
     "name": "stdout",
     "output_type": "stream",
     "text": [
      "6 songs found, 2 artists not found, 2 songs not found, 10 songs processed in 8.729602575302124 seconds, rate: 1.145527521297716, success_rate: 0.6\n",
      "11 songs found, 2 artists not found, 7 songs not found, 20 songs processed in 17.392635583877563 seconds, rate: 1.1499119787537768, success_rate: 0.55\n",
      "18 songs found, 3 artists not found, 9 songs not found, 30 songs processed in 26.382872581481934 seconds, rate: 1.1371013488901478, success_rate: 0.6\n",
      "22 songs found, 5 artists not found, 13 songs not found, 40 songs processed in 34.04745173454285 seconds, rate: 1.1748309480505994, success_rate: 0.55\n",
      "29 songs found, 5 artists not found, 16 songs not found, 50 songs processed in 45.76179814338684 seconds, rate: 1.0926144082742, success_rate: 0.58\n",
      "51 songs found, 9 artists not found, 20 songs not found, 80 songs processed in 77.91995787620544 seconds, rate: 1.0266946002088349, success_rate: 0.6375\n",
      "58 songs found, 9 artists not found, 23 songs not found, 90 songs processed in 90.38530445098877 seconds, rate: 0.995737089637202, success_rate: 0.6444444444444445\n",
      "66 songs found, 9 artists not found, 25 songs not found, 100 songs processed in 102.4661476612091 seconds, rate: 0.9759320739824913, success_rate: 0.66\n",
      "73 songs found, 10 artists not found, 27 songs not found, 110 songs processed in 113.15172243118286 seconds, rate: 0.9721460498924381, success_rate: 0.6636363636363637\n",
      "80 songs found, 10 artists not found, 30 songs not found, 120 songs processed in 124.58515548706055 seconds, rate: 0.9631966146437345, success_rate: 0.6666666666666666\n",
      "87 songs found, 10 artists not found, 33 songs not found, 130 songs processed in 137.5123689174652 seconds, rate: 0.9453695040191321, success_rate: 0.6692307692307692\n",
      "96 songs found, 10 artists not found, 34 songs not found, 140 songs processed in 150.00413990020752 seconds, rate: 0.9333075746651864, success_rate: 0.6857142857142857\n",
      "103 songs found, 11 artists not found, 36 songs not found, 150 songs processed in 162.57345843315125 seconds, rate: 0.9226598329497842, success_rate: 0.6866666666666666\n",
      "117 songs found, 11 artists not found, 42 songs not found, 170 songs processed in 189.63929104804993 seconds, rate: 0.8964387024465631, success_rate: 0.6882352941176471\n",
      "123 songs found, 13 artists not found, 44 songs not found, 180 songs processed in 199.39343404769897 seconds, rate: 0.9027378502189812, success_rate: 0.6833333333333333\n",
      "131 songs found, 13 artists not found, 46 songs not found, 190 songs processed in 211.8705313205719 seconds, rate: 0.8967740762046772, success_rate: 0.6894736842105263\n",
      "145 songs found, 14 artists not found, 51 songs not found, 210 songs processed in 234.62667179107666 seconds, rate: 0.895038907541571, success_rate: 0.6904761904761905\n",
      "157 songs found, 18 artists not found, 55 songs not found, 230 songs processed in 274.1827039718628 seconds, rate: 0.8388567063792729, success_rate: 0.6826086956521739\n",
      "162 songs found, 18 artists not found, 60 songs not found, 240 songs processed in 294.0336060523987 seconds, rate: 0.8162332300112337, success_rate: 0.675\n",
      "171 songs found, 20 artists not found, 69 songs not found, 260 songs processed in 337.53945565223694 seconds, rate: 0.7702803202594337, success_rate: 0.6576923076923077\n",
      "177 songs found, 21 artists not found, 72 songs not found, 270 songs processed in 356.59515023231506 seconds, rate: 0.7571611667295532, success_rate: 0.6555555555555556\n",
      "191 songs found, 22 artists not found, 77 songs not found, 290 songs processed in 405.9282076358795 seconds, rate: 0.7144120426834984, success_rate: 0.6586206896551724\n",
      "197 songs found, 24 artists not found, 79 songs not found, 300 songs processed in 428.557981967926 seconds, rate: 0.7000219634748338, success_rate: 0.6566666666666666\n",
      "206 songs found, 25 artists not found, 79 songs not found, 310 songs processed in 456.30764627456665 seconds, rate: 0.6793662182322247, success_rate: 0.6645161290322581\n",
      "213 songs found, 25 artists not found, 82 songs not found, 320 songs processed in 480.6603901386261 seconds, rate: 0.6657507183142543, success_rate: 0.665625\n",
      "236 songs found, 28 artists not found, 86 songs not found, 350 songs processed in 552.3699748516083 seconds, rate: 0.633633281921281, success_rate: 0.6742857142857143\n",
      "243 songs found, 29 artists not found, 88 songs not found, 360 songs processed in 577.1264352798462 seconds, rate: 0.6237801251045406, success_rate: 0.675\n",
      "249 songs found, 29 artists not found, 92 songs not found, 370 songs processed in 599.1275887489319 seconds, rate: 0.6175646172005121, success_rate: 0.672972972972973\n",
      "273 songs found, 29 artists not found, 98 songs not found, 400 songs processed in 678.9639871120453 seconds, rate: 0.5891328665330087, success_rate: 0.6825\n"
     ]
    }
   ],
   "source": [
    "x = GetLyrics(df1_sample).get_lyrics()"
   ]
  },
  {
   "cell_type": "code",
   "execution_count": null,
   "id": "mexican-tsunami",
   "metadata": {},
   "outputs": [],
   "source": [
    "x"
   ]
  },
  {
   "cell_type": "code",
   "execution_count": null,
   "id": "approximate-starter",
   "metadata": {},
   "outputs": [],
   "source": []
  }
 ],
 "metadata": {
  "kernelspec": {
   "display_name": "Python 3",
   "language": "python",
   "name": "python3"
  },
  "language_info": {
   "codemirror_mode": {
    "name": "ipython",
    "version": 3
   },
   "file_extension": ".py",
   "mimetype": "text/x-python",
   "name": "python",
   "nbconvert_exporter": "python",
   "pygments_lexer": "ipython3",
   "version": "3.7.6"
  }
 },
 "nbformat": 4,
 "nbformat_minor": 5
}
