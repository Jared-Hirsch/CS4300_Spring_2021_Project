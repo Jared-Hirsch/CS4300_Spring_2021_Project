{
 "cells": [
  {
   "cell_type": "code",
   "execution_count": 31,
   "metadata": {},
   "outputs": [],
   "source": [
    "import spotipy\n",
    "from spotipy.oauth2 import SpotifyClientCredentials, SpotifyOAuth\n",
    "import spotipy.util as util\n",
    "from tqdm.notebook import tqdm\n",
    "import pprint\n",
    "import pickle\n",
    "from sp_client import Spotify_Client\n",
    "import pandas as pd\n",
    "sp = Spotify_Client()\n",
    "\n",
    "pp = pprint.PrettyPrinter(indent=4)"
   ]
  },
  {
   "cell_type": "code",
   "execution_count": 2,
   "metadata": {
    "scrolled": true
   },
   "outputs": [],
   "source": [
    "# #gets URIs of every premade Spotify playlist\n",
    "\n",
    "# uris = set()\n",
    "# offset = 0\n",
    "# more_playlists = True\n",
    "# while more_playlists:\n",
    "#     print(offset)\n",
    "#     retrieved = {x['uri'] for x in sp.user_playlists('spotify', offset = offset)['items']}\n",
    "#     if not retrieved:\n",
    "#         more_playlists = False\n",
    "#     else:\n",
    "#         uris.update(retrieved)\n",
    "#         offset += 50\n",
    "# uris = list(uris)\n",
    "# #save \n",
    "# with open('spotify_playlists.pkl', 'wb') as f:\n",
    "#     pickle.dump(uris, f)"
   ]
  },
  {
   "cell_type": "code",
   "execution_count": 3,
   "metadata": {},
   "outputs": [],
   "source": [
    "with open('spotify_playlists.pkl', 'rb') as f:\n",
    "    playlist_uris = pickle.load(f)"
   ]
  },
  {
   "cell_type": "code",
   "execution_count": 23,
   "metadata": {},
   "outputs": [],
   "source": [
    "def process_playlist(playlist_uri, processed_songs = set()):\n",
    "    playlist_songs = sp.playlist_tracks(playlist_uri)['items']\n",
    "    song_uris = []    \n",
    "    song_names = []\n",
    "    song_artists = []\n",
    "    out = []\n",
    "    \n",
    "    for song_dict in playlist_songs:\n",
    "        if song_dict and song_dict['track']:\n",
    "            song_uri = song_dict['track']['uri']\n",
    "            if song_uri not in processed_songs:\n",
    "                song_uris.append(song_uri)\n",
    "                song_names.append(song_dict['track']['name'])\n",
    "                song_artists.append(','.join(x['name'] for x in song_dict['track']['artists']))\n",
    "    \n",
    "    if len(song_uris) > 100: #can only query 100 uris at a time\n",
    "        song_uris = song_uris[:100]\n",
    "    data = sp.audio_features(song_uris)\n",
    "    \n",
    "    for song_features, song_uri, song_name, song_artist in zip(data, song_uris, song_names, song_artists):\n",
    "        if song_features and song_features['instrumentalness'] < 0.5: #skip songs that are mostly instrumentals\n",
    "            song_features['name'] = song_name\n",
    "            song_features['artist'] = song_artist\n",
    "            out.append(song_features)\n",
    "            processed_songs.add(song_uri)\n",
    "    return out, processed_songs"
   ]
  },
  {
   "cell_type": "code",
   "execution_count": 24,
   "metadata": {},
   "outputs": [],
   "source": [
    "def process_all_playlists(playlist_uris, processed_songs = set()):\n",
    "    data = []\n",
    "    for p_uri in tqdm(playlist_uris):\n",
    "        d, processed_songs = process_playlist(p_uri, processed_songs)\n",
    "        data.extend(d)\n",
    "    return pd.DataFrame(data), processed_songs"
   ]
  },
  {
   "cell_type": "code",
   "execution_count": 6,
   "metadata": {},
   "outputs": [],
   "source": [
    "path = r\"C:\\Users\\chris\\Documents\\GitHub\\cs4300sp2021-rad338-jsh328-rpp62-cmc447\\sample_data/\"\n",
    "ref_df = pd.read_csv(path + \"SpotifyAudioFeaturesApril2019.csv\")\n",
    "processed = set(ref_df['track_id'])"
   ]
  },
  {
   "cell_type": "code",
   "execution_count": 7,
   "metadata": {},
   "outputs": [
    {
     "data": {
      "application/vnd.jupyter.widget-view+json": {
       "model_id": "898d9928d7634ecb93a897604a7715c5",
       "version_major": 2,
       "version_minor": 0
      },
      "text/plain": [
       "  0%|          | 0/300 [00:00<?, ?it/s]"
      ]
     },
     "metadata": {},
     "output_type": "display_data"
    },
    {
     "name": "stderr",
     "output_type": "stream",
     "text": [
      "Expected id of type track but found type Blues+fr%C3%A5n+Sverige spotify:local:Tomas+Andersson-Wij:En+Introduktion+Till+Tomas+Andersson+Wij:Blues+fr%C3%A5n+Sverige:292\n",
      "Expected id of type track but found type Bass+Down+Low+%28feat.+The+Cataracs%29 spotify:local:Dev:Bass+Down+Low+-+Single:Bass+Down+Low+%28feat.+The+Cataracs%29:210\n",
      "Expected id of type track but found type I+Still+Care+For+You spotify:local:Ray+LaMontagne:Gossip+In+The+Grain:I+Still+Care+For+You:354\n"
     ]
    }
   ],
   "source": [
    "df, processed = process_all_playlists(playlist_uris[:300], processed)\n",
    "df.to_csv(\"playlists0_300.csv\", index = False)"
   ]
  },
  {
   "cell_type": "code",
   "execution_count": 17,
   "metadata": {},
   "outputs": [
    {
     "data": {
      "application/vnd.jupyter.widget-view+json": {
       "model_id": "dee40c02cfaf4074bb2cc6dbd54db0d9",
       "version_major": 2,
       "version_minor": 0
      },
      "text/plain": [
       "  0%|          | 0/300 [00:00<?, ?it/s]"
      ]
     },
     "metadata": {},
     "output_type": "display_data"
    },
    {
     "name": "stderr",
     "output_type": "stream",
     "text": [
      "Expected id of type track but found type Jag+kommer spotify:local:Veronica+Maggio:2011+-+Satan+i+gatan:Jag+kommer:200\n"
     ]
    }
   ],
   "source": [
    "df1, processed = process_all_playlists(playlist_uris[300:600], processed)\n",
    "df1.to_csv(\"playlists300_600.csv\", index = False)"
   ]
  },
  {
   "cell_type": "code",
   "execution_count": 25,
   "metadata": {},
   "outputs": [
    {
     "data": {
      "application/vnd.jupyter.widget-view+json": {
       "model_id": "e771ffb1b7fa43ffb5aa1fdfbf92c5ae",
       "version_major": 2,
       "version_minor": 0
      },
      "text/plain": [
       "  0%|          | 0/300 [00:00<?, ?it/s]"
      ]
     },
     "metadata": {},
     "output_type": "display_data"
    },
    {
     "name": "stderr",
     "output_type": "stream",
     "text": [
      "Expected id of type track but found type Lusaka+By+Night spotify:local:John+Wizards:XFM:Lusaka+By+Night:180\n",
      "Expected id of type track but found type episode spotify:episode:0ufaVne0slHc9dE28EciFC\n",
      "Expected id of type track but found type episode spotify:episode:6Pf5ioiO4SALW4wNehAtW8\n",
      "Expected id of type track but found type episode spotify:episode:5szkvxcWisREix8i34QmjH\n",
      "Expected id of type track but found type episode spotify:episode:7DpLJaDx6Lst2ogdqEL9Ld\n",
      "Expected id of type track but found type episode spotify:episode:2PCUu5xJs8mTeMGvM532Ob\n",
      "Expected id of type track but found type episode spotify:episode:1FzdxfMvZ6a1SjmDBYFOzN\n",
      "Expected id of type track but found type episode spotify:episode:3ORDDslop6jwYs1skgoAS5\n",
      "Expected id of type track but found type episode spotify:episode:01z76dsMSRSNUW90Q14L4B\n",
      "Expected id of type track but found type episode spotify:episode:31Ve9dl2Ti17WRKgB9QfKr\n",
      "Expected id of type track but found type episode spotify:episode:77iBDvb6t3P6o4uG2rzQ4b\n",
      "Expected id of type track but found type episode spotify:episode:3GledfDACsmTu92s1Faw0B\n",
      "Expected id of type track but found type episode spotify:episode:0quYwXqgKZCwFs7bJF80Xj\n",
      "Expected id of type track but found type episode spotify:episode:4w3gCQjeCj0mwpIRUnL7gk\n",
      "Expected id of type track but found type episode spotify:episode:1k2OdSPpAzf7p9ABt7UM0z\n",
      "Expected id of type track but found type episode spotify:episode:2LZ515e2Oqyab3WBKr5CQk\n"
     ]
    }
   ],
   "source": [
    "df2, processed = process_all_playlists(playlist_uris[600:900], processed)\n",
    "df2.to_csv(\"playlists600_900.csv\", index = False)"
   ]
  },
  {
   "cell_type": "code",
   "execution_count": 32,
   "metadata": {
    "scrolled": true
   },
   "outputs": [
    {
     "data": {
      "application/vnd.jupyter.widget-view+json": {
       "model_id": "7ff3cadee94140a1bf1470e7159371bb",
       "version_major": 2,
       "version_minor": 0
      },
      "text/plain": [
       "  0%|          | 0/498 [00:00<?, ?it/s]"
      ]
     },
     "metadata": {},
     "output_type": "display_data"
    },
    {
     "name": "stderr",
     "output_type": "stream",
     "text": [
      "Expected id of type track but found type Witch+Doctor spotify:local:Hit+Crew:Kids%27+Party+Fun:Witch+Doctor:136\n",
      "Expected id of type track but found type Youre+Still+The+One spotify:local:Shania+Twain::Youre+Still+The+One:212\n"
     ]
    }
   ],
   "source": [
    "df3, processed = process_all_playlists(playlist_uris[900:], processed)\n",
    "df3.to_csv(\"playlists900_end.csv\", index = False)"
   ]
  },
  {
   "cell_type": "code",
   "execution_count": 38,
   "metadata": {},
   "outputs": [],
   "source": [
    "all_df = pd.concat([df, df1, df2, df3]).drop_duplicates(subset = ['uri']).reset_index(drop = True).drop(columns = ['type', 'id', 'track_href', 'analysis_url'])"
   ]
  },
  {
   "cell_type": "code",
   "execution_count": 43,
   "metadata": {},
   "outputs": [],
   "source": [
    "all_df = all_df.loc[:, ['name', 'artist'] + list(all_df.columns[:-2])]"
   ]
  },
  {
   "cell_type": "code",
   "execution_count": 45,
   "metadata": {},
   "outputs": [],
   "source": [
    "all_df.to_csv(\"all_playlists.csv\", index = False)"
   ]
  }
 ],
 "metadata": {
  "kernelspec": {
   "display_name": "Python 3",
   "language": "python",
   "name": "python3"
  },
  "language_info": {
   "codemirror_mode": {
    "name": "ipython",
    "version": 3
   },
   "file_extension": ".py",
   "mimetype": "text/x-python",
   "name": "python",
   "nbconvert_exporter": "python",
   "pygments_lexer": "ipython3",
   "version": "3.7.6"
  }
 },
 "nbformat": 4,
 "nbformat_minor": 4
}
