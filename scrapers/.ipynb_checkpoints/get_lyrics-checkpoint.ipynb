{
 "cells": [
  {
   "cell_type": "code",
   "execution_count": 1,
   "id": "greatest-consideration",
   "metadata": {},
   "outputs": [],
   "source": [
    "from lyricsgenius import Genius\n",
    "from collections import Counter\n",
    "import re\n",
    "from nltk.tokenize import TreebankWordTokenizer\n",
    "import string\n",
    "import pandas as pd\n",
    "import requests\n",
    "from tqdm.notebook import tqdm\n",
    "import pickle\n",
    "\n",
    "tokenizer = TreebankWordTokenizer()\n",
    "punct = set(string.punctuation)\n",
    "punct.update({\"''\", \"``\", \"\"})\n",
    "genius = Genius('bVEbboB9VeToZE48RaiJwrnAGLz8VbrIdlqnVU70pzJXs_T4Yg6pdPpJrTQDK46p')\n",
    "genius.verbose = False"
   ]
  },
  {
   "cell_type": "code",
   "execution_count": 2,
   "id": "collaborative-occurrence",
   "metadata": {},
   "outputs": [],
   "source": [
    "path = r'C:\\Users\\chris\\Documents\\GitHub\\cs4300sp2021-rad338-jsh328-rpp62-cmc447\\sample_data'\n",
    "df = pd.read_csv(path + r\"\\sample_scraped_data200.csv\")"
   ]
  },
  {
   "cell_type": "code",
   "execution_count": 3,
   "id": "greater-canberra",
   "metadata": {},
   "outputs": [],
   "source": [
    "def match(a, b):\n",
    "    return (a in b) or (b in a)\n",
    "\n",
    "def get_lyrics(song_name, song_artist):\n",
    "    while True:\n",
    "        try:\n",
    "            s = genius.search_song(song_name, song_artist, get_full_info = False)\n",
    "            break\n",
    "        except:\n",
    "            pass\n",
    "    if s:\n",
    "        s = s.to_dict()\n",
    "        query_name, query_artist = song_name.lower(), song_artist.lower()\n",
    "        returned_name, returned_artist = s['title'].lower(), s['artist'].lower()\n",
    "\n",
    "        if match(query_name, returned_name) and match(query_artist, returned_artist):\n",
    "            return s['lyrics']"
   ]
  },
  {
   "cell_type": "code",
   "execution_count": 4,
   "id": "dense-actor",
   "metadata": {},
   "outputs": [],
   "source": [
    "def get_all_lyrics(df):\n",
    "    \"\"\"\n",
    "    df: DataFrame; uri, name, and artist must be columns in the dataframe\n",
    "    \n",
    "    returns a dictionary where key = song uri and value = Counter of tokenized lyrics\n",
    "    \"\"\"\n",
    "    cnt_dict = dict() #dict(uri: Counter(lyric tokens))\n",
    "    pbar = tqdm(total=len(df))\n",
    "    for _, row in df.iterrows():\n",
    "        uri, name, artist = row[['uri', 'name', 'artist']]\n",
    "        if \"-\" in name:\n",
    "            name = name[:name.find(\"-\")].strip()\n",
    "        lyrics = get_lyrics(name, artist)\n",
    "        if lyrics:\n",
    "            lyrics = re.sub(r'[\\(\\[].*?[\\)\\]]', '', lyrics)\n",
    "            tokens = [t for t in tokenizer.tokenize(lyrics) if t not in punct]\n",
    "            cnt = Counter(tokens)\n",
    "            cnt_dict[uri] = cnt\n",
    "        pbar.update(1)\n",
    "    return cnt_dict"
   ]
  },
  {
   "cell_type": "code",
   "execution_count": null,
   "id": "daily-deadline",
   "metadata": {
    "scrolled": false
   },
   "outputs": [
    {
     "data": {
      "application/vnd.jupyter.widget-view+json": {
       "model_id": "7270aceb9e41419183f6ef09785fd233",
       "version_major": 2,
       "version_minor": 0
      },
      "text/plain": [
       "  0%|          | 0/1066 [00:00<?, ?it/s]"
      ]
     },
     "metadata": {},
     "output_type": "display_data"
    }
   ],
   "source": [
    "lyrics_dict = get_all_lyrics(df)"
   ]
  },
  {
   "cell_type": "code",
   "execution_count": null,
   "id": "australian-prefix",
   "metadata": {},
   "outputs": [],
   "source": [
    "len(lyrics_dict)"
   ]
  },
  {
   "cell_type": "code",
   "execution_count": null,
   "id": "chicken-donor",
   "metadata": {},
   "outputs": [],
   "source": [
    "with open(path + r'\\sample_scraped_data200_lyrics.pkl', 'wb') as f:\n",
    "    picke.dump(lyrics_dict, f)"
   ]
  }
 ],
 "metadata": {
  "kernelspec": {
   "display_name": "Python 3",
   "language": "python",
   "name": "python3"
  },
  "language_info": {
   "codemirror_mode": {
    "name": "ipython",
    "version": 3
   },
   "file_extension": ".py",
   "mimetype": "text/x-python",
   "name": "python",
   "nbconvert_exporter": "python",
   "pygments_lexer": "ipython3",
   "version": "3.7.6"
  }
 },
 "nbformat": 4,
 "nbformat_minor": 5
}
